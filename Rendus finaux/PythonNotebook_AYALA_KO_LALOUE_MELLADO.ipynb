{
  "cells":[
    {
      "cell_type":"markdown",
      "source":[
        "# Analyse de Données\n",
        "\n",
        "## Setup"
      ],
      "metadata":{
        
      }
    },
    {
      "cell_type":"code",
      "source":[
        "import numpy as np\n",
        "import pandas as pd\n",
        "import matplotlib.pyplot as plt\n",
        "import seaborn as sns\n",
        "import os\n",
        "\n",
        "sns.set_style('darkgrid')\n",
        "%matplotlib inline\n",
        "\n",
        "PROJECT_ROOT_DIR = \".\"\n",
        "IMAGES_PATH = os.path.join(PROJECT_ROOT_DIR, \"figures\")\n",
        "os.makedirs(IMAGES_PATH, exist_ok=True)\n",
        "\n",
        "plt.rcParams['figure.figsize'] = (12.8, 9.6)\n",
        "\n",
        "def save_fig(fig_id, tight_layout=True, fig_extension=\"png\", resolution=300):\n",
        "    path = os.path.join(IMAGES_PATH, fig_id + \".\" + fig_extension)\n",
        "    print(\"Saving figure\", fig_id)\n",
        "    if tight_layout:\n",
        "        plt.tight_layout()\n",
        "    plt.savefig(path, format=fig_extension, dpi=resolution)"
      ],
      "execution_count":2,
      "outputs":[
        
      ],
      "metadata":{
        
      }
    },
    {
      "cell_type":"code",
      "source":[
        "#path = '..\/data'\n",
        "path = ''\n",
        "loading = pd.read_csv(path + 'velibLoading.csv', sep=\" \")\n",
        "loading.head()"
      ],
      "execution_count":3,
      "outputs":[
        
      ],
      "metadata":{
        
      }
    },
    {
      "cell_type":"code",
      "source":[
        "velibAdds = pd.read_csv(path + 'velibAdds.csv', sep=\" \")\n",
        "velibAdds.head()"
      ],
      "execution_count":4,
      "outputs":[
        
      ],
      "metadata":{
        
      }
    },
    {
      "cell_type":"code",
      "source":[
        "velibAdds.describe()"
      ],
      "execution_count":5,
      "outputs":[
        
      ],
      "metadata":{
        
      }
    },
    {
      "cell_type":"code",
      "source":[
        "number_of_stations_on_hills = 0\n",
        "for i in range(1189):\n",
        "    if velibAdds.iloc[i,2]==1:\n",
        "        number_of_stations_on_hills+=1\n",
        "print(\"{0:.2%}\".format(number_of_stations_on_hills\/1189))"
      ],
      "execution_count":6,
      "outputs":[
        
      ],
      "metadata":{
        
      }
    },
    {
      "cell_type":"code",
      "source":[
        "p = loading.columns.size\n",
        "Time = np.linspace(1, p, p)"
      ],
      "execution_count":7,
      "outputs":[
        
      ],
      "metadata":{
        
      }
    },
    {
      "cell_type":"code",
      "source":[
        "plt.plot(Time, loading.transpose()[1], linewidth=2, color='blue')\n",
        "plt.xlabel('Time')\n",
        "plt.ylabel('Loading')\n",
        "plt.title(velibAdds.names[1])\n",
        "plt.vlines(x = np.linspace(1, p, 8), ymin=0, ymax=1, colors=\"black\", linestyle=\"dotted\")\n",
        "save_fig('euryale_station_loading')\n",
        "plt.show()"
      ],
      "execution_count":8,
      "outputs":[
        
      ],
      "metadata":{
        
      }
    },
    {
      "cell_type":"code",
      "source":[
        "plt.figure(figsize=(20, 15))\n",
        "for i in range(1, 17):\n",
        "    plt.subplot(4, 4, i)\n",
        "    plt.plot(Time, loading.transpose()[i], linewidth=2, color='blue')\n",
        "    plt.xlabel('Time')\n",
        "    plt.ylabel('Loading')\n",
        "    plt.title(velibAdds.names[i])\n",
        "    plt.vlines(x=np.linspace(1, p, 8), ymin=0, ymax=1, colors=\"black\", linestyle=\"dotted\")\n",
        "\n",
        "#plt.suptitle('Loading of the 16 First Stations', fontsize='x-large')\n",
        "save_fig('16_first_loading_plots')\n",
        "plt.show()"
      ],
      "execution_count":9,
      "outputs":[
        
      ],
      "metadata":{
        
      }
    },
    {
      "cell_type":"code",
      "source":[
        "def plot_boxplot(x, medianprops, title=None):\n",
        "    plt.figure(figsize=(24, 12))\n",
        "    plt.boxplot(x, medianprops=medianprops)\n",
        "    plt.vlines(x=np.linspace(1, p, 8), ymin=0, ymax=1, colors=\"blue\", linestyle=\"dotted\", linewidth=3)\n",
        "    plt.xticks(np.arange(0, 168, 5), labels=np.arange(0, 168, 5), fontsize=10)\n",
        "    if title:\n",
        "        plt.title(title, fontsize=16)"
      ],
      "execution_count":10,
      "outputs":[
        
      ],
      "metadata":{
        
      }
    },
    {
      "cell_type":"code",
      "source":[
        "medianprops = dict(linestyle='-.', linewidth=5, color='firebrick')\n",
        "\n",
        "plot_boxplot(loading, medianprops, title=None)\n",
        "save_fig('boxplot_of_variables')\n",
        "plt.show()"
      ],
      "execution_count":11,
      "outputs":[
        
      ],
      "metadata":{
        
      }
    },
    {
      "cell_type":"code",
      "source":[
        "h = 12 # time\n",
        "t = 3 # shift\n",
        "\n",
        "plt.scatter(loading.iloc[:, t], loading.iloc[:, t+h])\n",
        "#plt.title(\"Loading at time {} vs at time {}\".format(t+h, t), fontsize=14)\n",
        "save_fig('loading_shift_correlation')\n",
        "plt.show()"
      ],
      "execution_count":12,
      "outputs":[
        
      ],
      "metadata":{
        
      }
    },
    {
      "cell_type":"code",
      "source":[
        "fig, axs = plt.subplots(3,4)\n",
        "for i in range(3):\n",
        "    for j in range(1,5):\n",
        "        axs[i,j-1].scatter(loading.iloc[:, i*4+j], loading.iloc[:, i*4+j+1], alpha=.7)\n",
        "        axs[i,j-1].set_title(\"time {} vs time {}\".format(i*4+j+1, i*4+j))\n",
        "\n",
        "save_fig('mult_loading_shift_correlation')\n",
        "plt.show()"
      ],
      "execution_count":13,
      "outputs":[
        
      ],
      "metadata":{
        
      }
    },
    {
      "cell_type":"code",
      "source":[
        "corr_matrix = loading.corr()\n",
        "\n",
        "plt.figure(figsize=(20, 9))\n",
        "plt.subplot(1, 2, 1)\n",
        "#plt.title('Total Correlations', fontsize=20)\n",
        "sns.heatmap(corr_matrix, xticklabels=False, yticklabels=False, cmap=\"viridis\")\n",
        "\n",
        "plt.subplot(1, 2, 2)\n",
        "#plt.title('Sub-correlation (Monday)', fontsize=20)\n",
        "sns.heatmap(corr_matrix.iloc[:24, :24], xticklabels=True, yticklabels=True, cmap=\"viridis\")\n",
        "save_fig('loading_correlation_total_day')\n",
        "plt.show()"
      ],
      "execution_count":14,
      "outputs":[
        
      ],
      "metadata":{
        
      }
    },
    {
      "cell_type":"code",
      "source":[
        "longitude = velibAdds.longitude\n",
        "latitude = velibAdds.latitude\n",
        "on_hill = (velibAdds.bonus == 1) # on recupere les valeurs ou bonus=1 i.e. sur une colline"
      ],
      "execution_count":15,
      "outputs":[
        
      ],
      "metadata":{
        
      }
    },
    {
      "cell_type":"code",
      "source":[
        "plt.xlim = (2.2222, 2.4795)\n",
        "plt.ylim = (48.8064, 48.9152)\n",
        "plt.scatter(longitude[~on_hill], latitude[~on_hill])\n",
        "plt.scatter(longitude[on_hill], latitude[on_hill], marker=\"2\")\n",
        "plt.legend(labels=['Not On Hill', 'On Hill'], fontsize='x-large')\n",
        "plt.xlabel('Longitudes')\n",
        "plt.ylabel('Latitudes')\n",
        "#plt.title('Location of Stations in Paris', fontsize=14)\n",
        "save_fig('location_of_stations')\n",
        "plt.show()"
      ],
      "execution_count":16,
      "outputs":[
        
      ],
      "metadata":{
        
      }
    },
    {
      "cell_type":"code",
      "source":[
        "plot_boxplot(loading[on_hill], medianprops)\n",
        "save_fig('boxplot_of_hill_stations')\n",
        "plt.show()"
      ],
      "execution_count":17,
      "outputs":[
        
      ],
      "metadata":{
        
      }
    },
    {
      "cell_type":"code",
      "source":[
        "plot_boxplot(loading[~on_hill], medianprops)\n",
        "save_fig('boxplot_of_not_hill_stations')\n",
        "plt.show()"
      ],
      "execution_count":18,
      "outputs":[
        
      ],
      "metadata":{
        
      }
    },
    {
      "cell_type":"markdown",
      "source":[
        "## Principal Component Analysis\n",
        "\n",
        "Given that we have many variables (168 variables), we use PCA to better understand the meaning of these variables and select only a few of them. <br>\n",
        "Our data does not need to be scaled before performing PCA as the loading is a number between 0 and 1."
      ],
      "metadata":{
        
      }
    },
    {
      "cell_type":"code",
      "source":[
        "from sklearn.decomposition import PCA\n",
        "\n",
        "n_components = 15\n",
        "pca = PCA(n_components=n_components)\n",
        "loading_pca = pca.fit_transform(loading)"
      ],
      "execution_count":19,
      "outputs":[
        
      ],
      "metadata":{
        
      }
    },
    {
      "cell_type":"markdown",
      "source":[
        "We first plot the percentage of variance explained by the first 15 components."
      ],
      "metadata":{
        
      }
    },
    {
      "cell_type":"code",
      "source":[
        "x = np.arange(pca.explained_variance_.size)\n",
        "fig, ax = plt.subplots(1, 2, figsize=(20, 10))\n",
        "\n",
        "ax[0].bar(x, pca.explained_variance_ratio_)\n",
        "ax[0].plot(pca.explained_variance_ratio_, color='black')\n",
        "ax[0].set_xlabel('Principal Components', fontsize=16)\n",
        "ax[0].set_ylabel('Explained Variance', fontsize=16)\n",
        "#ax[0].set_title('Explained Variance Ratios',fontsize=25)\n",
        "\n",
        "for p in ax[0].patches:\n",
        "    text = str(np.round(p.get_height(), 2) * 100) + '%'\n",
        "    ax[0].annotate(text=text,\n",
        "                xy=(p.get_x()+p.get_width()\/2., p.get_height()+0.01),\n",
        "                fontsize='large',\n",
        "                ha='center',\n",
        "                va='center')\n",
        "\n",
        "ax[1].bar(x+1, np.cumsum(pca.explained_variance_ratio_), width=.7)\n",
        "ax[1].set_ylabel('Shared Variance', fontsize=16)\n",
        "ax[1].set_xlabel('Principal Components', fontsize=16)\n",
        "#ax[1].set_title('Cumulative Sum of Variance Ratio',fontsize=25)\n",
        "\n",
        "for p in ax[1].patches:\n",
        "    text = str(np.round(p.get_height(), 2) * 100) + '%'\n",
        "    ax[1].annotate(text=text,\n",
        "                xy=(p.get_x()+p.get_width()\/2., p.get_height()+0.01),\n",
        "                fontsize='large',\n",
        "                ha='center',\n",
        "                va='center')\n",
        "\n",
        "save_fig('explained_var_ratio_and_cumulative')\n",
        "plt.show()"
      ],
      "execution_count":20,
      "outputs":[
        
      ],
      "metadata":{
        
      }
    },
    {
      "cell_type":"markdown",
      "source":[
        "Most of the variance is contained in the first two components (around 60%), but there is still some important imformation in some of the following components. We explain 80% of the variance with the first seven components. <br>\n",
        "On the graph 'Explained Variance Ratios', the curve of explained variance ratios is bent over the 6th principal component.<br>\n",
        "We therefore choose to work with the first 6 components, given that after the sixth component, the cumulated sum of shared variance increases very slowly."
      ],
      "metadata":{
        
      }
    },
    {
      "cell_type":"markdown",
      "source":[
        "We also analyze the boxplot of the coordinates of the bike stations on the first fifteen principal axis."
      ],
      "metadata":{
        
      }
    },
    {
      "cell_type":"code",
      "source":[
        "plt.boxplot(loading_pca)\n",
        "plt.axhline(0, c='b', alpha=.2)\n",
        "plt.xlabel('Principal Components', fontsize=16)\n",
        "#plt.title('Boxplot of Principal Components',fontsize='xx-large')\n",
        "save_fig('boxplot_of_pca')\n",
        "plt.show()"
      ],
      "execution_count":21,
      "outputs":[
        
      ],
      "metadata":{
        
      }
    },
    {
      "cell_type":"markdown",
      "source":[
        "These boxplots give us the same information as before. The first two components are the ones with the biggest variance, and after the sixth component, variance decreases very slowly. <br>\n",
        "The medians are centered on 0 after the 3rd principal component and the extent of boxplots is constant after the 6th principal component. <br>"
      ],
      "metadata":{
        
      }
    },
    {
      "cell_type":"markdown",
      "source":[
        "The following figure shows the projection of all of the bike stations onto the plane formed by the first two principal axis."
      ],
      "metadata":{
        
      }
    },
    {
      "cell_type":"code",
      "source":[
        "plt.scatter(loading_pca[:, 0][~on_hill], loading_pca[:, 1][~on_hill],\n",
        "            color='b', label='Not On Hill')\n",
        "plt.scatter(loading_pca[:, 0][on_hill], loading_pca[:, 1][on_hill],\n",
        "            color='r', label='On Hill')\n",
        "plt.axhline(0, linestyle='--', color='black')\n",
        "plt.axvline(0, linestyle='--', color='black')\n",
        "plt.xlabel('Dimension 1')\n",
        "plt.ylabel('Dimension 2')\n",
        "#plt.title('Individuals Map - PCA')\n",
        "plt.legend()\n",
        "plt.grid(True)\n",
        "save_fig('map_of_individuals')\n",
        "plt.show()"
      ],
      "execution_count":22,
      "outputs":[
        
      ],
      "metadata":{
        
      }
    },
    {
      "cell_type":"markdown",
      "source":[
        "We observe that there might be a cluster near the bottom left corner, and amongst this cluster are most of the bike stations located on a hill."
      ],
      "metadata":{
        
      }
    },
    {
      "cell_type":"markdown",
      "source":[
        "We then plot the circle of correlation for the first two components, which we zoom in on to better appreciate."
      ],
      "metadata":{
        
      }
    },
    {
      "cell_type":"code",
      "source":[
        "coord1 = pca.components_[0] * np.sqrt(pca.explained_variance_[0])\n",
        "coord2 = pca.components_[1] * np.sqrt(pca.explained_variance_[1])\n",
        "\n",
        "for i, j, nom in zip(coord1,coord2, loading.columns):\n",
        "    plt.text(i, j, nom)\n",
        "    plt.arrow(0, 0, i, j, color='black', alpha=.2)\n",
        "\n",
        "#plt.title('Variables Factor Map - PCA', fontsize=14)\n",
        "plt.xlabel('Dimension 1 ')\n",
        "plt.ylabel('Dimension 2 ')\n",
        "plt.grid(True)\n",
        "save_fig('variables_correlation_1_2', resolution=250)\n",
        "plt.show()"
      ],
      "execution_count":23,
      "outputs":[
        
      ],
      "metadata":{
        
      }
    },
    {
      "cell_type":"markdown",
      "source":[
        "We observe that all of the variables take positive values on the first principal axis. For the second axis, positive values tend to correspond to daytime hours (14 to 18), while negative values correspond to nighttime hours (23 to 05). However, all of the variables are very far away from the edge of the circle of radius 1. Therefore we can deduce that :\n",
        "\n",
        "Principal Component 1: overall loading \n",
        "\n",
        "Principal Component 2: contrast between day and night"
      ],
      "metadata":{
        
      }
    },
    {
      "cell_type":"markdown",
      "source":[
        "We also plot the circle of correlation for components 1 and 3."
      ],
      "metadata":{
        
      }
    },
    {
      "cell_type":"code",
      "source":[
        "coord3 = pca.components_[2] * np.sqrt(pca.explained_variance_[2])\n",
        "\n",
        "for i, j, nom in zip(coord1, coord3, loading.columns):\n",
        "    plt.text(i, j, nom)\n",
        "    plt.arrow(0, 0, i, j, color='black', alpha=.1)\n",
        "\n",
        "#plt.title('Variables Factor Map - PCA', fontsize=14)\n",
        "plt.xlabel('Dimension 1')\n",
        "plt.ylabel('Dimension 3')\n",
        "plt.grid(True)\n",
        "save_fig('variables_correlation_1_3', resolution=250)\n",
        "plt.show()"
      ],
      "execution_count":24,
      "outputs":[
        
      ],
      "metadata":{
        
      }
    },
    {
      "cell_type":"markdown",
      "source":[
        "By observing the third principal component, we find that most of the variables with positive coordinates correspond to the days of the weekend, while most of the varibles with negative coordinates correspond to weekdays. We can conclude that:\n",
        "\n",
        "Principal Component 3: contrast between weekdays and the weekend.\n",
        "\n",
        "However, it is important to remember that this analysis is mostly inconclusive because the arrows are all very short in norms, which means that the correlation with either dimension is not very strong. "
      ],
      "metadata":{
        
      }
    },
    {
      "cell_type":"code",
      "source":[
        "fig, axs = plt.subplots(6, 1)\n",
        "x = np.arange(len(pca.components_[1]))\n",
        "for i in range(6):\n",
        "    axs[i].plot(x, pca.components_[i])\n",
        "    axs[i].set_ylabel(\"PC \" + str(i+1))\n",
        "    \n",
        "#fig.suptitle('Principal Components', fontsize=14)\n",
        "save_fig('graphs_pca')\n",
        "plt.show()"
      ],
      "execution_count":25,
      "outputs":[
        
      ],
      "metadata":{
        
      }
    },
    {
      "cell_type":"code",
      "source":[
        "label_dic_hill = {1: 'Not On Hill', 2: 'On Hill'}\n",
        "\n",
        "def plot_pca(l_pca, fig, ax, nbc, nbc2):\n",
        "    for i in range(2):\n",
        "        xs = l_pca[velibAdds.bonus == i, nbc - 1]\n",
        "        ys = l_pca[velibAdds.bonus == i, nbc2 - 1]\n",
        "        label = label_dic_hill[i + 1]\n",
        "        color = cmaps(i)\n",
        "        ax.scatter(xs, ys, color=color, alpha=.8, s=1, label=label)\n",
        "        ax.set_xlabel(\"PC %d: %.2f%%\" % (nbc, pca.explained_variance_ratio_[nbc - 1] * 100), fontsize=10)\n",
        "        ax.set_ylabel(\"PC %d: %.2f%%\" % (nbc2, pca.explained_variance_ratio_[nbc2 - 1] * 100), fontsize=10)"
      ],
      "execution_count":26,
      "outputs":[
        
      ],
      "metadata":{
        
      }
    },
    {
      "cell_type":"code",
      "source":[
        "cmaps = plt.get_cmap(\"Set1\")\n",
        "\n",
        "fig = plt.figure()\n",
        "for nbc, nbc2, count in [(1, 2, 1), (1, 3, 2), (1, 4, 3), (2, 3, 5), (2, 4, 6), (3, 4, 9)] :\n",
        "    ax = fig.add_subplot(3, 3, count)\n",
        "    plot_pca(loading_pca, fig, ax, nbc, nbc2)\n",
        "\n",
        "plt.legend(loc='best', bbox_to_anchor=(1.8, 2), markerscale=8, fontsize='large')\n",
        "#plt.suptitle('Principal Components from 1 to 4', fontsize=14)\n",
        "save_fig('scatter_of_1_4_pc')\n",
        "plt.show()"
      ],
      "execution_count":27,
      "outputs":[
        
      ],
      "metadata":{
        
      }
    },
    {
      "cell_type":"markdown",
      "source":[
        "## CAH sur les données brutes"
      ],
      "metadata":{
        
      }
    },
    {
      "cell_type":"code",
      "source":[
        "import scipy.cluster.hierarchy as sch\n",
        "\n",
        "height = 30.5\n",
        "Z = sch.linkage(loading, method=\"ward\", metric=\"euclidean\")\n",
        "plt.figure(figsize=(20, 10))\n",
        "sch.dendrogram(Z, no_labels=True)\n",
        "plt.axhline(height, color='black', alpha=.8, linestyle='--')\n",
        "plt.ylabel('Euclidean Distance', fontsize='x-large')\n",
        "#plt.title(\"Ascending Hierarchical Clustering : Dendrogram\", fontsize='xx-large')\n",
        "save_fig('AHC_dendrogram_raw')\n",
        "plt.show()"
      ],
      "execution_count":28,
      "outputs":[
        
      ],
      "metadata":{
        
      }
    },
    {
      "cell_type":"code",
      "source":[
        "heights = Z[:, 2]  # Décroissance des sauts\n",
        "x = np.arange(len(heights)) + 1\n",
        "heights = sorted(heights, reverse=True)\n",
        "plt.plot(x[:16], heights[:16], '-o')\n",
        "plt.xlabel('Index')\n",
        "plt.ylabel('Height',fontsize=14)\n",
        "plt.axvline(5, color='black', alpha=3, linestyle='--')\n",
        "#plt.title(\"Number of clusters\",fontsize='xx-large')\n",
        "save_fig('AHC_heights_raw')\n",
        "plt.show()"
      ],
      "execution_count":29,
      "outputs":[
        
      ],
      "metadata":{
        
      }
    },
    {
      "cell_type":"code",
      "source":[
        "groups_cah = sch.fcluster(Z, t=height, criterion='distance')\n",
        "newvelib = velibAdds.copy()\n",
        "newvelib['group'] = groups_cah"
      ],
      "execution_count":30,
      "outputs":[
        
      ],
      "metadata":{
        
      }
    },
    {
      "cell_type":"code",
      "source":[
        "n_clusters = np.max(groups_cah)\n",
        "print('Number of clusters:', n_clusters)"
      ],
      "execution_count":31,
      "outputs":[
        
      ],
      "metadata":{
        
      }
    },
    {
      "cell_type":"code",
      "source":[
        "import plotly.graph_objects as go\n",
        "import plotly.offline as pof\n",
        "\n",
        "colors = sns.color_palette(\"husl\", n_clusters).as_hex()\n",
        "grouped = newvelib.groupby('group')\n",
        "mapbox_access_token = \"pk.eyJ1IjoibGFsb3VlYSIsImEiOiJja2tpaGdsbW0weWplMnZxdHl5cG1ncW8xIn0.NG1rULNFLX4zplmUV0WPoQ\"\n",
        "\n",
        "fig = go.Figure()\n",
        "for i in range(n_clusters):\n",
        "    df_group = grouped.get_group(i+1)\n",
        "    fig.add_trace(\n",
        "        go.Scattermapbox(\n",
        "            name='Cluster {}'.format(i+1),\n",
        "            lon=df_group.longitude.values,\n",
        "            lat=df_group.latitude.values,\n",
        "            mode='markers',\n",
        "            marker=dict(size=7, color=colors[i],opacity=0.8),\n",
        "            hovertemplate=df_group.names,\n",
        "        )\n",
        "    )\n",
        "fig.update_layout(\n",
        "    title_text='CAH Clusters of Velib Stations',\n",
        "    mapbox=go.layout.Mapbox(\n",
        "        accesstoken=mapbox_access_token,\n",
        "        zoom=12,\n",
        "        center={'lon':2.3425123048878604, 'lat':48.85920718597386}\n",
        "    ),\n",
        "    autosize=False,\n",
        "    width=1500,\n",
        "    height=850,\n",
        ")\n",
        "pof.iplot(fig)"
      ],
      "execution_count":62,
      "outputs":[
        
      ],
      "metadata":{
        
      }
    },
    {
      "cell_type":"code",
      "source":[
        "markers = ['v', '^', 'o', 's', 'p', '*']\n",
        "\n",
        "for i, marker in zip(np.arange(n_clusters), markers):\n",
        "    temp = grouped.get_group(i+1)\n",
        "    plt.scatter(temp.longitude.values, temp.latitude.values, color=colors[i], label='Cluster {}'.format(i+1), marker=marker)\n",
        "\n",
        "plt.xlabel('Longitude')\n",
        "plt.ylabel('Latitude')\n",
        "#plt.title('CAH clusters')\n",
        "plt.legend(fontsize=16)\n",
        "save_fig('CAH_clusters_raw')\n",
        "plt.show()"
      ],
      "execution_count":33,
      "outputs":[
        
      ],
      "metadata":{
        
      }
    },
    {
      "cell_type":"markdown",
      "source":[
        "## CAH sur les CP de l'ACP"
      ],
      "metadata":{
        
      }
    },
    {
      "cell_type":"code",
      "source":[
        "height = 32\n",
        "loadingCP = loading_pca[:, :6]\n",
        "Z = sch.linkage(loadingCP, method=\"ward\", metric=\"euclidean\")\n",
        "plt.figure(figsize=(20, 10))\n",
        "sch.dendrogram(Z, no_labels=True)\n",
        "plt.axhline(height, color='black', alpha=.5, linestyle='--')\n",
        "plt.ylabel('Distance')\n",
        "#plt.title(\"CAH\", fontsize='xx-large')\n",
        "plt.savefig(\"CAH_PCA\")\n",
        "plt.show()"
      ],
      "execution_count":34,
      "outputs":[
        
      ],
      "metadata":{
        
      }
    },
    {
      "cell_type":"code",
      "source":[
        "groups_cah_acp = sch.fcluster(Z, t=height, criterion='distance')\n",
        "newvelib = velibAdds.copy()\n",
        "newvelib['group'] = groups_cah_acp\n",
        "n_clusters = np.max(groups_cah_acp)"
      ],
      "execution_count":35,
      "outputs":[
        
      ],
      "metadata":{
        
      }
    },
    {
      "cell_type":"code",
      "source":[
        "colors = sns.color_palette(\"husl\", n_clusters).as_hex()\n",
        "grouped = newvelib.groupby('group')\n",
        "mapbox_access_token = \"pk.eyJ1IjoibGFsb3VlYSIsImEiOiJja2tpaGdsbW0weWplMnZxdHl5cG1ncW8xIn0.NG1rULNFLX4zplmUV0WPoQ\"\n",
        "dicts = {}\n",
        "\n",
        "fig = go.Figure()\n",
        "for i in range(n_clusters):\n",
        "    df_group = grouped.get_group(i+1)\n",
        "    fig.add_trace(\n",
        "        go.Scattermapbox(\n",
        "            name='Cluster {}'.format(i+1),\n",
        "            lon=df_group.longitude.values,\n",
        "            lat=df_group.latitude.values,\n",
        "            mode='markers',\n",
        "            marker=dict(size=5, color=colors[i]),\n",
        "            hovertemplate=df_group.names,\n",
        "            showlegend=True\n",
        "        )\n",
        "    )\n",
        "fig.update_layout(\n",
        "    title_text='CAH Clusters of Velib Stations',\n",
        "    mapbox=go.layout.Mapbox(\n",
        "        accesstoken=mapbox_access_token,\n",
        "        zoom=12,\n",
        "        center={'lon':2.3425123048878604, 'lat':48.85920718597386}\n",
        "    ),\n",
        "    autosize=False,\n",
        "    width=1500,\n",
        "    height=850,\n",
        ")\n",
        "pof.iplot(fig)"
      ],
      "execution_count":36,
      "outputs":[
        
      ],
      "metadata":{
        
      }
    },
    {
      "cell_type":"code",
      "source":[
        "def cross_table(classe1, classe2):\n",
        "    table = pd.crosstab(classe1, classe2, \n",
        "                        rownames=['classes ACP'], colnames=['classes données brutes'])\n",
        "    a = np.zeros(np.shape(table)[0])\n",
        "    b = np.zeros(np.shape(table)[0])\n",
        "    for j in range (0, np.shape(table)[0]):\n",
        "        for i in range (0, np.shape(table)[0]):\n",
        "            if a[j] < table[i][j]:\n",
        "                a[j] = table[i][j]\n",
        "                b[j] = i                       \n",
        "                                             \n",
        "    print (\"\")\n",
        "    print (\"max colonne\", a)\n",
        "    print (\"j=\", b)\n",
        "    print (\"\")\n",
        "    #tablebis = np.copy(table)\n",
        "    n=np.shape(table)[0]\n",
        "    tablebis= pd.DataFrame(columns=[str(i) for i in range(n)])\n",
        "\n",
        "    for k in range(n):\n",
        "        tablebis[str(k)] = table[b[k]][:]\n",
        "        #tablebis[k][:] = table[b[k]][:]  \n",
        "          \n",
        "    return tablebis"
      ],
      "execution_count":37,
      "outputs":[
        
      ],
      "metadata":{
        
      }
    },
    {
      "cell_type":"code",
      "source":[
        "cross_table(groups_cah-1, groups_cah_acp-1)"
      ],
      "execution_count":38,
      "outputs":[
        
      ],
      "metadata":{
        
      }
    },
    {
      "cell_type":"markdown",
      "source":[
        "En sélectionnant le même nombre de classes : 4, la CAH sur les 6 CP de l'ACP et la CAH sur les données brutes donnent les mêmes résultats ie elles classent les individus dans les mêmes clusters."
      ],
      "metadata":{
        
      }
    },
    {
      "cell_type":"markdown",
      "source":[
        "## K-Means"
      ],
      "metadata":{
        
      }
    },
    {
      "cell_type":"code",
      "source":[
        "from sklearn.cluster import KMeans"
      ],
      "execution_count":39,
      "outputs":[
        
      ],
      "metadata":{
        
      }
    },
    {
      "cell_type":"markdown",
      "source":[
        "We apply the $k$-means method to regroup the individuals projected into the space formed by the first six principal axes."
      ],
      "metadata":{
        
      }
    },
    {
      "cell_type":"code",
      "source":[
        "loadingCP = loading_pca[:, 0:6]\n",
        "kmeans = KMeans(n_clusters=n_clusters, random_state=0).fit(loadingCP)\n",
        "kclassesACP = kmeans.labels_\n",
        "\n",
        "pd.DataFrame(kclassesACP).hist()\n",
        "save_fig('histplot_of_3_axes')\n",
        "plt.show()"
      ],
      "execution_count":40,
      "outputs":[
        
      ],
      "metadata":{
        
      }
    },
    {
      "cell_type":"markdown",
      "source":[
        "We do the same, but this time using the individuals in the full space $\\mathbb{R}^{168}$."
      ],
      "metadata":{
        
      }
    },
    {
      "cell_type":"code",
      "source":[
        "from sklearn.preprocessing import scale\n",
        "\n",
        "kmeans = KMeans(n_clusters=n_clusters, random_state=0).fit(scale(loading))\n",
        "kclasses = kmeans.labels_\n",
        "pd.DataFrame(kclasses).hist()\n",
        "save_fig('histplot_of_raw_data_classes')\n",
        "plt.show()"
      ],
      "execution_count":41,
      "outputs":[
        
      ],
      "metadata":{
        
      }
    },
    {
      "cell_type":"markdown",
      "source":[
        "Using the function cross_table() we compare these two groups of clusters."
      ],
      "metadata":{
        
      }
    },
    {
      "cell_type":"code",
      "source":[
        "cross_table(kclassesACP, kclasses)"
      ],
      "execution_count":42,
      "outputs":[
        
      ],
      "metadata":{
        
      }
    },
    {
      "cell_type":"markdown",
      "source":[
        "The cross table shows that these two groups of clusters are practically the same. This can also be observed by comparing the two histograms."
      ],
      "metadata":{
        
      }
    },
    {
      "cell_type":"markdown",
      "source":[
        "We plot the indiviuals into the plane formed by the first two principal axis and we separate the previous clusters by color."
      ],
      "metadata":{
        
      }
    },
    {
      "cell_type":"code",
      "source":[
        "pc1 = loading_pca[:, 0]\n",
        "pc2 = loading_pca[:, 1]\n",
        "coul = ['b', 'r', 'g', 'y', 'm', 'c']\n",
        "n_clusters = 6\n",
        "# Choix des options\n",
        "kmeans = KMeans(n_clusters=n_clusters, random_state=42)\n",
        "# Exécution de l'algorithme\n",
        "y_pred = kmeans.fit_predict(loadingCP)\n",
        "\n",
        "centers = kmeans.cluster_centers_\n",
        "\n",
        "for i, j, indcoul in zip(pc1, pc2, kclasses):\n",
        "    plt.text(i, j, \"o\", color=coul[indcoul], fontweight='black')\n",
        "\n",
        "plt.axis((-8, 8, -8, 8))\n",
        "plt.scatter(centers[:, 0], centers[:, 1], c='black', s=200, alpha=0.5)\n",
        "#plt.title('Individuals by Class Factor Map - PCA (with plotted cluster centroids)', fontsize=14)\n",
        "plt.xlabel('Dimension 1')\n",
        "plt.ylabel('Dimension 2')\n",
        "save_fig('clusters_with_centers')\n",
        "plt.show()"
      ],
      "execution_count":43,
      "outputs":[
        
      ],
      "metadata":{
        
      }
    },
    {
      "cell_type":"code",
      "source":[
        "kmeans = KMeans(n_clusters=n_clusters, random_state=42)\n",
        "y_pred = kmeans.fit_predict(scale(loading))\n",
        "centers = kmeans.cluster_centers_\n",
        "\n",
        "plt.figure(figsize=(24, 12))\n",
        "plt.boxplot(scale(loading), medianprops=medianprops)\n",
        "plt.boxplot(centers, medianprops=dict(linestyle='dashed', linewidth=5, color='crimson'))\n",
        "plt.xlabel('Time')\n",
        "plt.ylabel('Loading')\n",
        "#plt.title('K-Means on Raw Data')\n",
        "save_fig('kmeans_raw')\n",
        "plt.show()"
      ],
      "execution_count":44,
      "outputs":[
        
      ],
      "metadata":{
        
      }
    },
    {
      "cell_type":"code",
      "source":[
        "p = loading.columns.size\n",
        "fig, ax = plt.subplots(3, 2, figsize=(20, 8))\n",
        "\n",
        "arr = [(i, j) for i in [0, 1, 2] for j in [0, 1]]\n",
        "k = 0\n",
        "for i, j in arr:\n",
        "    ax[i, j].plot(Time, centers[k], linewidth=2, color=coul[k])\n",
        "    ax[i, j].vlines(x=np.linspace(1, p, 8), ymin=np.min(centers[k]), ymax=np.max(centers[k]),\n",
        "                color=\"black\", linestyle=\"dotted\", linewidth=3)\n",
        "    ax[i, j].set_xlabel('Time')\n",
        "    ax[i, j].set_ylabel('Loading ' + str(k))\n",
        "    ax[i, j].set_title(f'Mean Loading of Cluster {k+1}')\n",
        "    k += 1\n",
        "\n",
        "save_fig('loading_of_clusters')\n",
        "fig.show()"
      ],
      "execution_count":45,
      "outputs":[
        
      ],
      "metadata":{
        
      }
    },
    {
      "cell_type":"code",
      "source":[
        "clusters = [[[0]],[[0]],[[0]],[[0]]]\n",
        "for k in range(len(y_pred)):\n",
        "    num = y_pred[k]\n",
        "    clusters[num].append([loading.iloc[k, :]])"
      ],
      "execution_count":46,
      "outputs":[
        
      ],
      "metadata":{
        
      }
    },
    {
      "cell_type":"code",
      "source":[
        "fig, ax = plt.subplots(2, 2, figsize=(20, 8))\n",
        "\n",
        "ax[0, 0].boxplot(clusters[0], medianprops=dict(linestyle='dashed', linewidth=5, color=coul[0]))\n",
        "ax[0, 0].set_xlabel('Time')\n",
        "ax[0, 0].set_ylabel('Loading ' + str(0))\n",
        "\n",
        "ax[0, 1].boxplot(clusters[1], medianprops=dict(linestyle='dashed', linewidth=5, color=coul[1]))\n",
        "ax[0, 1].set_xlabel('Time')\n",
        "ax[0, 1].set_ylabel('Loading ' + str(1))\n",
        "\n",
        "ax[1, 0].boxplot(clusters[2], medianprops=dict(linestyle='dashed', linewidth=5, color=coul[2]))\n",
        "ax[1, 0].set_xlabel('Time')\n",
        "ax[1, 0].set_ylabel('Loading ' + str(2))\n",
        "\n",
        "ax[1, 1].boxplot(clusters[3], medianprops=dict(linestyle='dashed', linewidth=5, color=coul[3]))\n",
        "ax[1, 1].set_xlabel('Time')\n",
        "ax[1, 1].set_ylabel('Loading ' + str(3))\n",
        "\n",
        "fig.show()"
      ],
      "execution_count":47,
      "outputs":[
        
      ],
      "metadata":{
        
      }
    },
    {
      "cell_type":"code",
      "source":[
        "import matplotlib\n",
        "from sklearn.metrics import silhouette_score, silhouette_samples\n",
        "from matplotlib.ticker import FixedLocator, FixedFormatter\n",
        "\n",
        "X = loading_pca.copy()\n",
        "kmeans_per_k = [KMeans(n_clusters=k, random_state=42).fit(X) for k in range(1, 10)]\n",
        "inertias = [model.inertia_ for model in kmeans_per_k]\n",
        "silhouette_score(X, kmeans.labels_)\n",
        "silhouette_scores = [silhouette_score(X, model.labels_) for model in kmeans_per_k[1:]]"
      ],
      "execution_count":48,
      "outputs":[
        
      ],
      "metadata":{
        
      }
    },
    {
      "cell_type":"code",
      "source":[
        "plt.figure(figsize=(11, 9))\n",
        "\n",
        "for k in (3, 4, 5, 6):\n",
        "    plt.subplot(2, 2, k - 2)\n",
        "    \n",
        "    y_pred = kmeans_per_k[k - 1].labels_\n",
        "    silhouette_coefficients = silhouette_samples(X, y_pred)\n",
        "\n",
        "    padding = len(X) \/\/ 30\n",
        "    pos = padding\n",
        "    ticks = []\n",
        "    for i in range(k):\n",
        "        coeffs = silhouette_coefficients[y_pred == i]\n",
        "        coeffs.sort()\n",
        "        cmap = matplotlib.cm.get_cmap(\"Spectral\")\n",
        "        color = cmap(i \/ k)\n",
        "        plt.fill_betweenx(np.arange(pos, pos + len(coeffs)), 0, coeffs,\n",
        "                          facecolor=color, edgecolor=color, alpha=0.7)\n",
        "        ticks.append(pos + len(coeffs) \/\/ 2)\n",
        "        pos += len(coeffs) + padding\n",
        "\n",
        "    plt.gca().yaxis.set_major_locator(FixedLocator(ticks))\n",
        "    plt.gca().yaxis.set_major_formatter(FixedFormatter(range(k)))\n",
        "    if k in (3, 5):\n",
        "        plt.ylabel(\"Cluster\")\n",
        "    \n",
        "    if k in (5, 6):\n",
        "        plt.gca().set_xticks([-0.1, 0, 0.2, 0.4, 0.6, 0.8, 1])\n",
        "        plt.xlabel(\"Silhouette Coefficient\")\n",
        "    else:\n",
        "        plt.tick_params(labelbottom=False)\n",
        "\n",
        "    plt.axvline(x=silhouette_scores[k - 2], color=\"red\", linestyle=\"--\", label='S.C mean')\n",
        "    plt.title(\"$k={}$\".format(k), fontsize=16)\n",
        "\n",
        "save_fig('silhouette_coefficient')\n",
        "plt.legend()\n",
        "plt.show()"
      ],
      "execution_count":49,
      "outputs":[
        
      ],
      "metadata":{
        
      }
    },
    {
      "cell_type":"code",
      "source":[
        "plt.figure(figsize=(8, 5))\n",
        "plt.plot(range(1, 10), inertias, \"bo-\")\n",
        "plt.xlabel(\"$k$\", fontsize=14)\n",
        "plt.ylabel(\"Inertia\", fontsize=14)\n",
        "#plt.title('Intertia vs Number of classes')\n",
        "save_fig('inertia_classes')\n",
        "plt.show()"
      ],
      "execution_count":50,
      "outputs":[
        
      ],
      "metadata":{
        
      }
    },
    {
      "cell_type":"markdown",
      "source":[
        "We have plotted the silhouette coefficients according to the number of clusters. It is clear that using 5 or 6 clusters is a bad idea because some of the clusters have a lower than average silhouette coefficient. The answer is ambiguous, since the plots with 3 or 4 clusters reveal that both models are adequate. Both models do have misplaced samples and the 3 cluster model does have a cluster that contain a lot of samples. It also has a better average silhouette coefficient. The 4 clusters model does have more well distributed samples."
      ],
      "metadata":{
        
      }
    },
    {
      "cell_type":"markdown",
      "source":[
        "### Gaussian mixture model on PCA data"
      ],
      "metadata":{
        
      }
    },
    {
      "cell_type":"code",
      "source":[
        "from sklearn.mixture import GaussianMixture"
      ],
      "execution_count":51,
      "outputs":[
        
      ],
      "metadata":{
        
      }
    },
    {
      "cell_type":"code",
      "source":[
        "from matplotlib.colors import LogNorm\n",
        "\n",
        "\n",
        "def plot_centroids(centroids, weights=None, circle_color='w', cross_color='k'):\n",
        "    if weights is not None:\n",
        "        centroids = centroids[weights > weights.max() \/ 10]\n",
        "    plt.scatter(centroids[:, 0], centroids[:, 1],\n",
        "                marker='o', s=30, linewidths=8,\n",
        "                color=circle_color, zorder=10, alpha=0.9)\n",
        "    plt.scatter(centroids[:, 0], centroids[:, 1],\n",
        "                marker='x', s=50, linewidths=50,\n",
        "                color=cross_color, zorder=11, alpha=1)\n",
        "\n",
        "\n",
        "def plot_gaussian_mixture(clusterer, X, resolution=1000, show_ylabels=True):\n",
        "    mins = X.min(axis=0) - 0.1\n",
        "    maxs = X.max(axis=0) + 0.1\n",
        "    xx, yy = np.meshgrid(np.linspace(mins[0], maxs[0], resolution),\n",
        "                         np.linspace(mins[1], maxs[1], resolution))\n",
        "    Z = -clusterer.score_samples(np.c_[xx.ravel(), yy.ravel()])\n",
        "    Z = Z.reshape(xx.shape)\n",
        "\n",
        "    plt.contourf(xx, yy, Z,\n",
        "                 norm=LogNorm(vmin=1.0, vmax=30.0),\n",
        "                 levels=np.logspace(0, 2, 12))\n",
        "    plt.contour(xx, yy, Z,\n",
        "                norm=LogNorm(vmin=1.0, vmax=30.0),\n",
        "                levels=np.logspace(0, 2, 12),\n",
        "                linewidths=1, colors='k')\n",
        "\n",
        "    Z = clusterer.predict(np.c_[xx.ravel(), yy.ravel()])\n",
        "    Z = Z.reshape(xx.shape)\n",
        "    plt.contour(xx, yy, Z,\n",
        "                linewidths=2, colors='r', linestyles='dashed')\n",
        "    \n",
        "    plt.plot(X[:, 0], X[:, 1], 'k.', markersize=2)\n",
        "    plot_centroids(clusterer.means_, clusterer.weights_)\n",
        "\n",
        "    plt.xlabel(\"Dimension 1\", fontsize=14)\n",
        "    if show_ylabels:\n",
        "        plt.ylabel(\"Dimension 2\", fontsize=14)\n",
        "    else:\n",
        "        plt.tick_params(labelleft=False)"
      ],
      "execution_count":52,
      "outputs":[
        
      ],
      "metadata":{
        
      }
    },
    {
      "cell_type":"code",
      "source":[
        "gm = GaussianMixture(n_components=n_clusters, n_init=10, random_state=42)\n",
        "gm.fit(loading_pca[:, :2])\n",
        "labels_gm = gm.predict(loading_pca[:, :2]) \n",
        "\n",
        "plt.figure(figsize=(12, 8))\n",
        "plot_gaussian_mixture(gm, loading_pca[:, :2])\n",
        "save_fig(\"Gaussian_mix_1\")\n",
        "plt.show()"
      ],
      "execution_count":53,
      "outputs":[
        
      ],
      "metadata":{
        
      }
    },
    {
      "cell_type":"code",
      "source":[
        "plt.scatter(X[:, 0], X[:, 1], c=labels_gm, s=40, cmap='viridis')\n",
        "#plt.title('Gaussian mixture clustering - PCA (with plotted cluster centroids)', fontsize=14)\n",
        "plt.xlabel('Dimension 1')\n",
        "plt.ylabel('Dimension 2')\n",
        "save_fig(\"Gaussian_mix_2\")\n",
        "plt.show()"
      ],
      "execution_count":54,
      "outputs":[
        
      ],
      "metadata":{
        
      }
    },
    {
      "cell_type":"code",
      "source":[
        "gms_per_k = [GaussianMixture(n_components=k, n_init=10, random_state=42).fit(loading_pca[:, :2])\n",
        "             for k in range(1, 11)]"
      ],
      "execution_count":55,
      "outputs":[
        
      ],
      "metadata":{
        
      }
    },
    {
      "cell_type":"code",
      "source":[
        "bics = [model.bic(loading_pca[:, :2]) for model in gms_per_k]\n",
        "aics = [model.aic(loading_pca[:, :2]) for model in gms_per_k]"
      ],
      "execution_count":56,
      "outputs":[
        
      ],
      "metadata":{
        
      }
    },
    {
      "cell_type":"code",
      "source":[
        "plt.figure(figsize=(12, 8))\n",
        "plt.plot(range(1, 11), bics, \"bo-\", label=\"BIC\")\n",
        "plt.plot(range(1, 11), aics, \"go--\", label=\"AIC\")\n",
        "plt.xlabel(\"$k$\", fontsize=14)\n",
        "plt.ylabel(\"Information Criterion\", fontsize=12)\n",
        "plt.axis([1, 9.5, np.min(aics) - 50, np.max(aics) + 50])\n",
        "plt.legend()\n",
        "plt.show()"
      ],
      "execution_count":57,
      "outputs":[
        
      ],
      "metadata":{
        
      }
    },
    {
      "cell_type":"code",
      "source":[
        "min_bic = np.infty\n",
        "\n",
        "for k in range(1, 11):\n",
        "    for covariance_type in (\"full\", \"tied\", \"spherical\", \"diag\"):\n",
        "        bic = GaussianMixture(n_components=k, n_init=10,\n",
        "                              covariance_type=covariance_type,\n",
        "                              random_state=42).fit(X).bic(X)\n",
        "        if bic < min_bic:\n",
        "            min_bic = bic\n",
        "            best_k = k\n",
        "            best_covariance_type = covariance_type"
      ],
      "execution_count":58,
      "outputs":[
        
      ],
      "metadata":{
        
      }
    },
    {
      "cell_type":"code",
      "source":[
        "best_k"
      ],
      "execution_count":59,
      "outputs":[
        
      ],
      "metadata":{
        
      }
    },
    {
      "cell_type":"code",
      "source":[
        "best_covariance_type"
      ],
      "execution_count":60,
      "outputs":[
        
      ],
      "metadata":{
        
      }
    },
    {
      "cell_type":"markdown",
      "source":[
        "## A faire : tables de contingence : comparaison des différentes classifications "
      ],
      "metadata":{
        
      }
    },
    {
      "cell_type":"code",
      "source":[
        "cross_table(kclasses, groups_cah-1)"
      ],
      "execution_count":61,
      "outputs":[
        
      ],
      "metadata":{
        
      }
    }
  ],
  "metadata":{
    
  },
  "nbformat":4,
  "nbformat_minor":0
}