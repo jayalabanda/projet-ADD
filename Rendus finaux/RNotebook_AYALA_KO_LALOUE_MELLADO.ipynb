{
 "cells": [
  {
   "cell_type": "code",
   "execution_count": null,
   "metadata": {},
   "outputs": [],
   "source": [
    "rm(list = ls())  # Erase everything, start from scratch!\n",
    "\n",
    "# Load the data from package funFEM\n",
    "suppressPackageStartupMessages({\n",
    "    library(funFEM)  # Suppress all loading package messages\n",
    "})\n",
    "data(velib)"
   ]
  },
  {
   "cell_type": "code",
   "execution_count": null,
   "metadata": {},
   "outputs": [],
   "source": [
    "# Data preparation\n",
    "x <- as.matrix(velib$data)\n",
    "# colnames(x) <- 1:ncol(x)\n",
    "rownames(x) <- velib$names\n",
    "\n",
    "# Consider a subsample\n",
    "set.seed(0)\n",
    "n <- nrow(x)\n",
    "stations <- 1:n\n",
    "coord <- velib$position[stations, ]\n",
    "\n",
    "# Select exactly 7 days of data (we remove the first 13 dates)\n",
    "dates <- 14:181\n",
    "x <- x[stations, dates]\n",
    "colnames(x) <- 1:length(dates)"
   ]
  },
  {
   "cell_type": "code",
   "execution_count": null,
   "metadata": {},
   "outputs": [],
   "source": [
    "timeTick <- 1 + 24 * (0:6)  # vector corresponding to the beginning of days\n",
    "par(mfrow = c(1, 1))\n",
    "options(repr.plot.width = 15, repr.plot.height = 6)\n",
    "\n",
    "plot(x[1, ], col = \"blue\", type = \"l\", ylim = c(0, 1), xlab = \"Time\", ylab = \"Loading\", \n",
    "    main = rownames(x)[1])\n",
    "abline(v = timeTick, lty = \"dotted\")"
   ]
  },
  {
   "cell_type": "code",
   "execution_count": null,
   "metadata": {},
   "outputs": [],
   "source": [
    "par(mfrow = c(4, 4))\n",
    "options(repr.plot.width = 15, repr.plot.height = 15)\n",
    "for (i in 1:16) {\n",
    "    plot(x[i, ], col = \"blue\", type = \"l\", ylim = c(0, 1), xlab = \"Time\", ylab = \"Loading\", \n",
    "        main = rownames(x)[i])\n",
    "    abline(v = timeTick, lty = \"dotted\")\n",
    "}"
   ]
  },
  {
   "cell_type": "code",
   "execution_count": null,
   "metadata": {},
   "outputs": [],
   "source": [
    "options(repr.plot.width = 16, repr.plot.height = 9)\n",
    "boxplot(x)\n",
    "abline(v = timeTick, lty = \"dotted\", col = \"blue\", lwd = 2)"
   ]
  },
  {
   "cell_type": "code",
   "execution_count": null,
   "metadata": {},
   "outputs": [],
   "source": [
    "h <- 1\n",
    "t <- 1\n",
    "\n",
    "mycor <- round(cor(x[, t], x[, t + h]), 2)\n",
    "plot(x[, t], x[, t + h], main = paste(\"Loading at time\", t + h, \"vs loading at time\", \n",
    "    t, \", correlation:\", mycor))"
   ]
  },
  {
   "cell_type": "code",
   "execution_count": null,
   "metadata": {},
   "outputs": [],
   "source": [
    "par(mfrow = c(2, 4))\n",
    "options(repr.plot.width = 15, repr.plot.height = 8)\n",
    "for (t in 5:12) {\n",
    "    plot(x[, t], x[, t + h], xlab = \"t\", ylab = \"t + h\")\n",
    "}"
   ]
  },
  {
   "cell_type": "code",
   "execution_count": null,
   "metadata": {},
   "outputs": [],
   "source": [
    "library(corrplot)\n",
    "\n",
    "cormat <- cor(x)\n",
    "par(mfrow = c(1, 2))\n",
    "corrplot(cormat, tl.pos = \"n\", method = \"color\")\n",
    "corrplot(cormat[1:24, 1:24], method = \"color\")"
   ]
  },
  {
   "cell_type": "code",
   "execution_count": null,
   "metadata": {},
   "outputs": [],
   "source": [
    "# this cell should display an interactive map\n",
    "\n",
    "library(sp)\n",
    "library(leaflet)\n",
    "library(leaflet.extras)\n",
    "\n",
    "longitude <- velib$position$longitude\n",
    "latitude <- velib$position$latitude\n",
    "\n",
    "df <- data.frame(longitude, latitude)\n",
    "coordinates(df) <- ~longitude + latitude\n",
    "pal <- colorFactor(velib$bonus, domain = velib$bonus)\n",
    "\n",
    "leaflet(df) %>%\n",
    "    addTiles() %>%\n",
    "    addCircleMarkers(radius = 1.1, col = ifelse(velib$bonus == 1, \"red\", \"blue\"), \n",
    "        label = velib$names) %>%\n",
    "    addFullscreenControl() %>%\n",
    "    addLegend(\"topright\", labels = c(\"hill\", \"no hill\"), colors = c(\"red\", \"blue\"))"
   ]
  },
  {
   "cell_type": "code",
   "execution_count": null,
   "metadata": {},
   "outputs": [],
   "source": [
    "plot(longitude, latitude, col = ifelse(velib$bonus == 1, \"red\", \"blue\"), xlab = \"Longitude\", \n",
    "    ylab = \"Latitude\", pch = velib$bonus + 1)\n",
    "legend(\"topright\", legend = c(\"Not On Hill\", \"On Hill\"), col = c(\"blue\", \"red\"), \n",
    "    pch = c(1, 2))"
   ]
  },
  {
   "cell_type": "code",
   "execution_count": null,
   "metadata": {},
   "outputs": [],
   "source": [
    "options(repr.plot.width = 16, repr.plot.height = 9)\n",
    "colline <- which(velib$bonus == 1)\n",
    "boxplot(x[colline, ], medcol = \"#cb4154\")\n",
    "abline(v = timeTick, lty = \"dotted\", col = \"blue\", lwd = 3)"
   ]
  },
  {
   "cell_type": "code",
   "execution_count": null,
   "metadata": {},
   "outputs": [],
   "source": [
    "options(repr.plot.width = 16, repr.plot.height = 9)\n",
    "no.colline <- which(velib$bonus == 0)\n",
    "boxplot(x[no.colline, ], medcol = \"#cb4154\", )\n",
    "abline(v = timeTick, lty = \"dotted\", col = \"blue\", lwd = 3)"
   ]
  },
  {
   "cell_type": "markdown",
   "metadata": {},
   "source": [
    "### PCA"
   ]
  },
  {
   "cell_type": "code",
   "execution_count": null,
   "metadata": {},
   "outputs": [],
   "source": [
    "library(FactoMineR)\n",
    "library(factoextra)\n",
    "\n",
    "ncp <- 15  # number of principal components\n",
    "rownames(x) <- 1:nrow(x)\n",
    "PCA.out = PCA(x, scale.unit = T, ncp = ncp, graph = F)"
   ]
  },
  {
   "cell_type": "code",
   "execution_count": null,
   "metadata": {},
   "outputs": [],
   "source": [
    "eig.val <- get_eig(PCA.out)\n",
    "\n",
    "options(repr.plot.width = 16, repr.plot.height = 9)\n",
    "\n",
    "bp1 <- barplot(eig.val[1:15, 2], ylab = \"Explained variance ratio\", ylim = c(0, 45), \n",
    "    col = \"#4682B4\")\n",
    "text(bp1, eig.val[1:15, 2] + 2, labels = paste(round(eig.val[1:15, 2], 2), \"%\"))\n",
    "lines(bp1, eig.val[1:15, 2])\n",
    "\n",
    "bp2 <- barplot(eig.val[1:15, 3], ylab = \"Shared variance\", ylim = c(0, 105), col = \"#4682B4\")\n",
    "text(bp2, eig.val[1:15, 3] + 2, labels = paste(round(eig.val[1:15, 3], 1), \"%\"))\n",
    "lines(bp2, eig.val[1:15, 3])"
   ]
  },
  {
   "cell_type": "code",
   "execution_count": null,
   "metadata": {},
   "outputs": [],
   "source": [
    "boxplot(PCA.out$ind$coord[, 1:15])"
   ]
  },
  {
   "cell_type": "code",
   "execution_count": null,
   "metadata": {},
   "outputs": [],
   "source": [
    "fviz_pca_var(PCA.out)"
   ]
  },
  {
   "cell_type": "code",
   "execution_count": null,
   "metadata": {},
   "outputs": [],
   "source": [
    "fviz_pca_var(PCA.out, axes = c(1, 3), alpha = 0.4)"
   ]
  },
  {
   "cell_type": "code",
   "execution_count": null,
   "metadata": {},
   "outputs": [],
   "source": [
    "fviz_pca_biplot(PCA.out, geom = \"point\")\n",
    "fviz_pca_biplot(PCA.out, repel = TRUE, geom = \"point\", col.ind = \"black\", pointshape = 21, \n",
    "    pointsize = 2, alpha.var = \"contrib\", col.var = \"contrib\", gradient.cols = c(\"#00AFBB\", \n",
    "        \"#E7B800\", \"#FC4E07\"), legend.title = list(color = \"Contrib\", alpha = \"Contrib\"))"
   ]
  },
  {
   "cell_type": "code",
   "execution_count": null,
   "metadata": {},
   "outputs": [],
   "source": [
    "fviz_pca_ind(PCA.out, geom = \"point\", col.ind = ifelse(velib$bonus == 1, \"Hill\", \n",
    "    \"No Hill\"))"
   ]
  },
  {
   "cell_type": "markdown",
   "metadata": {},
   "source": [
    "### CAH on raw data"
   ]
  },
  {
   "cell_type": "code",
   "execution_count": null,
   "metadata": {},
   "outputs": [],
   "source": [
    "options(repr.plot.width = 16, repr.plot.height = 12)\n",
    "CAHclust <- hclust(dist(x, method = \"euclidean\"), method = \"ward.D2\")\n",
    "CAHcut <- cutree(CAHclust, k = 5)\n",
    "plot(CAHclust, labels = FALSE)\n",
    "abline(h = 40, col = \"red\")"
   ]
  },
  {
   "cell_type": "code",
   "execution_count": null,
   "metadata": {},
   "outputs": [],
   "source": [
    "options(repr.plot.width = 12, repr.plot.height = 8)\n",
    "heights = CAHclust$height\n",
    "heights = sort(heights, decreasing = TRUE)\n",
    "plot(heights[1:16])"
   ]
  },
  {
   "cell_type": "code",
   "execution_count": null,
   "metadata": {},
   "outputs": [],
   "source": [
    "# fviz_cluster(list(data = velib$position, cluster = CAHclust)) # Utiliser pour\n",
    "# les données ACP\n",
    "library(dplyr)\n",
    "library(ggplot2)\n",
    "\n",
    "options(repr.plot.width = 16, repr.plot.height = 12)\n",
    "Stations_CAHclust <- mutate(velib$position, cluster = CAHcut)\n",
    "ggplot(Stations_CAHclust, aes(x = longitude, y = latitude, color = factor(cluster))) + \n",
    "    geom_point()"
   ]
  },
  {
   "cell_type": "code",
   "execution_count": null,
   "metadata": {},
   "outputs": [],
   "source": [
    "timeTick <- 1 + 24 * (0:6)  # vector corresponding to the beginning of days\n",
    "par(mfrow = c(3, 2))\n",
    "colours <- c(\"red\", \"blue\", \"green\", \"orange\", \"pink\")\n",
    "\n",
    "options(repr.plot.width = 20, repr.plot.height = 10)\n",
    "Cclust = cbind(x, CAHcut)\n",
    "for (i in 1:5) {\n",
    "    boxplot(Cclust[Cclust[, 169] == i, ], xlab = \"Time\", ylab = \"Loading\", col = colours[i], \n",
    "        type = \"l\", ylim = c(0, 1))\n",
    "    abline(v = timeTick, lty = \"dotted\")\n",
    "}"
   ]
  },
  {
   "cell_type": "markdown",
   "metadata": {},
   "source": [
    "### CAH on the PCA results"
   ]
  },
  {
   "cell_type": "code",
   "execution_count": null,
   "metadata": {},
   "outputs": [],
   "source": [
    "CAHclustACP <- hclust(dist(PCA.out$ind$coord[,1:5], method = \"euclidean\"), method = \"ward.D2\")\n",
    "CAHcutACP <- cutree(CAHclustACP, k = 5)\n",
    "plot(CAHclustACP, labels = FALSE)\n",
    "abline(h = 100, col = \"red\")"
   ]
  },
  {
   "cell_type": "code",
   "execution_count": null,
   "metadata": {},
   "outputs": [],
   "source": [
    "options(repr.plot.width = 12, repr.plot.height = 8)\n",
    "heights = CAHclustACP$height\n",
    "heights = sort(heights, decreasing = TRUE)\n",
    "plot(heights[1:16])"
   ]
  },
  {
   "cell_type": "code",
   "execution_count": null,
   "metadata": {},
   "outputs": [],
   "source": [
    "timeTick <- 1 + 24 * (0:6)  # vector corresponding to the beginning of days\n",
    "par(mfrow = c(3, 2))\n",
    "colours <- c(\"red\", \"blue\", \"green\", \"orange\", \"pink\")\n",
    "\n",
    "options(repr.plot.width = 20, repr.plot.height = 10)\n",
    "Cclust = cbind(x, CAHcutACP)\n",
    "for (i in 1:5) {\n",
    "    boxplot(Cclust[Cclust[, 169] == i, ], xlab = \"Time\", ylab = \"Loading\", col = colours[i], \n",
    "        type = \"l\", ylim = c(0, 1))\n",
    "    abline(v = timeTick, lty = \"dotted\")\n",
    "}"
   ]
  },
  {
   "cell_type": "code",
   "execution_count": null,
   "metadata": {},
   "outputs": [],
   "source": [
    "tabCompCluster <- table(CAHcut, CAHcutACP)  # seem to correspond up to a permutation\n",
    "tabCompCluster\n",
    "clusterPerm <- apply(tabCompCluster, 2, which.max)  # permutation maximizing the diagonal terms\n",
    "clusterPerm\n",
    "table(CAHcut, clusterPerm[CAHcutACP])"
   ]
  },
  {
   "cell_type": "markdown",
   "metadata": {},
   "source": [
    "### K-Means\n",
    "\n",
    "#### Raw Data"
   ]
  },
  {
   "cell_type": "code",
   "execution_count": null,
   "metadata": {},
   "outputs": [],
   "source": [
    "K <- 6\n",
    "reskm <- kmeans(x, centers = K)"
   ]
  },
  {
   "cell_type": "code",
   "execution_count": null,
   "metadata": {},
   "outputs": [],
   "source": [
    "new_k <- vector(length = 9)\n",
    "somme <- 0\n",
    "for (k in 1:9) {\n",
    "    new_k[k] <- kmeans(x, centers = k)$tot.withinss\n",
    "    somme <- somme + kmeans(x, centers = k)$totss\n",
    "}\n",
    "plot(x = c(1:9), new_k/somme, type = \"b\", xlab = \"Number of Clusters\")"
   ]
  },
  {
   "cell_type": "code",
   "execution_count": null,
   "metadata": {},
   "outputs": [],
   "source": [
    "timeTick <- 1 + 24 * (0:6)  # vector corresponding to the beginning of days\n",
    "par(mfrow = c(3, 2))\n",
    "colours <- c(\"red\", \"blue\", \"green\", \"orange\", \"pink\", \"yellow\")\n",
    "\n",
    "options(repr.plot.width = 20, repr.plot.height = 10)\n",
    "\n",
    "for (i in 1:6) {\n",
    "    plot(reskm$centers[i, ], xlab = \"Time\", ylab = \"Loading\", col = colours[i], type = \"l\", \n",
    "        ylim = c(0, 1), lwd = 3)\n",
    "    abline(v = timeTick, lty = \"dotted\")\n",
    "}"
   ]
  },
  {
   "cell_type": "code",
   "execution_count": null,
   "metadata": {},
   "outputs": [],
   "source": [
    "timeTick <- 1 + 24 * (0:6)  # vector corresponding to the beginning of days\n",
    "par(mfrow = c(3, 2))\n",
    "\n",
    "options(repr.plot.width = 20, repr.plot.height = 10)\n",
    "kmclust = cbind(x, reskm$cluster)\n",
    "for (i in 1:6) {\n",
    "    boxplot(kmclust[kmclust[, 169] == i, ], xlab = \"Time\", ylab = \"loading\", col = colours[i], \n",
    "        type = \"l\", ylim = c(0, 1))\n",
    "    abline(v = timeTick, lty = \"dotted\")\n",
    "}"
   ]
  },
  {
   "cell_type": "code",
   "execution_count": null,
   "metadata": {},
   "outputs": [],
   "source": [
    "fviz_cluster(reskm, x)"
   ]
  },
  {
   "cell_type": "code",
   "execution_count": null,
   "metadata": {},
   "outputs": [],
   "source": [
    "KMclust <- mutate(velib$position, cluster = reskm$cluster)\n",
    "ggplot(KMclust, aes(x = longitude, y = latitude, color = factor(cluster))) + geom_point()"
   ]
  },
  {
   "cell_type": "markdown",
   "metadata": {},
   "source": [
    "#### On PCA data"
   ]
  },
  {
   "cell_type": "code",
   "execution_count": null,
   "metadata": {},
   "outputs": [],
   "source": [
    "reskmPCA <- kmeans(PCA.out$ind$coord[,1:5], centers = K)"
   ]
  },
  {
   "cell_type": "code",
   "execution_count": null,
   "metadata": {},
   "outputs": [],
   "source": [
    "new_k <- vector(length = 9)\n",
    "somme <- 0\n",
    "for (k in 1:9) {\n",
    "    new_k[k] <- kmeans(PCA.out$ind$coord[,1:5], centers = k)$tot.withinss\n",
    "    somme <- somme + kmeans(PCA.out$ind$coord[,1:5], centers = k)$totss\n",
    "}\n",
    "plot(x = c(1:9), new_k/somme, type = \"b\", xlab = \"Number of Clusters\")"
   ]
  },
  {
   "cell_type": "code",
   "execution_count": null,
   "metadata": {},
   "outputs": [],
   "source": [
    "reskmPCA <- kmeans(PCA.out$ind$coord[,1:5], centers = K)\n",
    "fviz_cluster(reskmPCA, PCA.out$ind$coord[, 1:2])"
   ]
  },
  {
   "cell_type": "code",
   "execution_count": null,
   "metadata": {},
   "outputs": [],
   "source": [
    "timeTick <- 1 + 24 * (0:6)  # vector corresponding to the beginning of days\n",
    "par(mfrow = c(3, 2))\n",
    "\n",
    "options(repr.plot.width = 20, repr.plot.height = 10)\n",
    "kmclust = cbind(x, reskmPCA$cluster)\n",
    "for (i in 1:6) {\n",
    "    boxplot(kmclust[kmclust[, 169] == i, ], xlab = \"Time\", ylab = \"loading\", col = colours[i], \n",
    "        type = \"l\", ylim = c(0, 1))\n",
    "    abline(v = timeTick, lty = \"dotted\")\n",
    "}"
   ]
  },
  {
   "cell_type": "code",
   "execution_count": null,
   "metadata": {},
   "outputs": [],
   "source": [
    "tabCompCluster <- table(reskm$cluster, reskmPCA$cluster)  # seem to correspond up to a permutation\n",
    "tabCompCluster\n",
    "clusterPerm <- apply(tabCompCluster, 2, which.max)  # permutation maximizing the diagonal terms\n",
    "clusterPerm\n",
    "table(reskm$cluster, clusterPerm[reskmPCA$cluster])"
   ]
  },
  {
   "cell_type": "markdown",
   "metadata": {},
   "source": [
    "### Gaussian mixture"
   ]
  },
  {
   "cell_type": "code",
   "execution_count": null,
   "metadata": {
    "scrolled": true
   },
   "outputs": [],
   "source": [
    "library(mclust)\n",
    "\n",
    "nbr_clusters = 6\n",
    "gm = Mclust(PCA.out$ind$coord[, 1:2], G = nbr_clusters, modelNames = \"VVV\")\n",
    "summary(gm)"
   ]
  },
  {
   "cell_type": "code",
   "execution_count": null,
   "metadata": {},
   "outputs": [],
   "source": [
    "plot(gm, what = \"classification\")"
   ]
  },
  {
   "cell_type": "code",
   "execution_count": null,
   "metadata": {},
   "outputs": [],
   "source": []
  }
 ],
 "metadata": {
  "kernelspec": {
   "display_name": "R",
   "language": "R",
   "name": "ir"
  },
  "language_info": {
   "codemirror_mode": "r",
   "file_extension": ".r",
   "mimetype": "text/x-r-source",
   "name": "R",
   "pygments_lexer": "r",
   "version": "4.0.5"
  }
 },
 "nbformat": 4,
 "nbformat_minor": 4
}
