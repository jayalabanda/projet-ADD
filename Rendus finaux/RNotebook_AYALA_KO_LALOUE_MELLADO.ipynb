{
 "cells": [
  {
   "cell_type": "code",
   "execution_count": null,
   "metadata": {},
   "outputs": [],
   "source": [
    "rm(list = ls())   # Erase everything, start from scratch!\n",
    "\n",
    "# Load the data from package funFEM\n",
    "suppressPackageStartupMessages({\n",
    "    library(funFEM) # Suppress all loading package messages\n",
    "})\n",
    "data(velib)"
   ]
  },
  {
   "cell_type": "code",
   "execution_count": null,
   "metadata": {},
   "outputs": [],
   "source": [
    "# Data preparation\n",
    "x <- as.matrix(velib$data)\n",
    "#colnames(x) <- 1:ncol(x)\n",
    "rownames(x) <- velib$names\n",
    "\n",
    "# Consider a subsample\n",
    "set.seed(0)\n",
    "n <- nrow(x)\n",
    "stations <- 1:n \n",
    "coord <- velib$position[stations,]\n",
    "\n",
    "# Select exactly 7 days of data (we remove the first 13 dates)\n",
    "dates <- 14:181\n",
    "x <- x[stations, dates]\n",
    "colnames(x) <- 1:length(dates)"
   ]
  },
  {
   "cell_type": "code",
   "execution_count": null,
   "metadata": {},
   "outputs": [],
   "source": [
    "timeTick <- 1 + 24*(0:6)  # vector corresponding to the beginning of days\n",
    "par(mfrow = c(1, 1))\n",
    "options(repr.plot.width=15, repr.plot.height=6)\n",
    "\n",
    "plot(x[1,], col=\"blue\", type=\"l\", ylim=c(0, 1), \n",
    "     xlab=\"Time\", ylab=\"Loading\", main=rownames(x)[1])\n",
    "abline(v=timeTick, lty=\"dotted\")"
   ]
  },
  {
   "cell_type": "code",
   "execution_count": null,
   "metadata": {},
   "outputs": [],
   "source": [
    "par(mfrow=c(4, 4))\n",
    "options(repr.plot.width=15, repr.plot.height=15)\n",
    "for (i in 1:16) {\n",
    "    plot(x[i,], col=\"blue\", type=\"l\", ylim=c(0, 1), xlab=\"Time\",\n",
    "         ylab=\"Loading\", main=rownames(x)[i])\n",
    "    abline(v=timeTick, lty=\"dotted\")\n",
    "}"
   ]
  },
  {
   "cell_type": "code",
   "execution_count": null,
   "metadata": {},
   "outputs": [],
   "source": [
    "options(repr.plot.width=16, repr.plot.height=9)\n",
    "boxplot(x)\n",
    "abline(v=timeTick, lty=\"dotted\", col=\"blue\", lwd=2)"
   ]
  },
  {
   "cell_type": "code",
   "execution_count": null,
   "metadata": {},
   "outputs": [],
   "source": [
    "h <- 1\n",
    "t <- 1\n",
    "\n",
    "mycor <- round(cor(x[,t], x[,t+h]), 2)\n",
    "plot(x[,t], x[,t+h], main=paste(\"Loading at time\", t+h, \"vs loading at time\", t,\n",
    "                                 \", correlation:\", mycor))"
   ]
  },
  {
   "cell_type": "code",
   "execution_count": null,
   "metadata": {},
   "outputs": [],
   "source": [
    "par(mfrow=c(2,4))\n",
    "options(repr.plot.width=15, repr.plot.height=8)\n",
    "for (t in 5:12) {\n",
    "    plot(x[,t], x[,t+h], xlab=\"t\", ylab=\"t + h\")\n",
    "}"
   ]
  },
  {
   "cell_type": "code",
   "execution_count": null,
   "metadata": {},
   "outputs": [],
   "source": [
    "library(corrplot)\n",
    "\n",
    "cormat <- cor(x)\n",
    "par(mfrow=c(1,2))\n",
    "corrplot(cormat, tl.pos=\"n\", method=\"color\")\n",
    "corrplot(cormat[1:24,1:24], method=\"color\")"
   ]
  },
  {
   "cell_type": "code",
   "execution_count": null,
   "metadata": {},
   "outputs": [],
   "source": [
    "library(sp)\n",
    "library(leaflet)\n",
    "library(leaflet.extras)\n",
    "\n",
    "longitude <- velib$position$longitude\n",
    "latitude <- velib$position$latitude\n",
    "\n",
    "df <- data.frame(longitude, latitude)\n",
    "coordinates(df) <- ~longitude+latitude\n",
    "pal <- colorFactor(velib$bonus, domain = velib$bonus)\n",
    "\n",
    "leaflet(df) %>% \n",
    "    addTiles() %>% \n",
    "    addCircleMarkers(radius=1.1, col=ifelse(velib$bonus==1, \"red\", \"blue\"), label=velib$names) %>% \n",
    "    addFullscreenControl() %>%\n",
    "    addLegend(\"topright\", labels=c(\"hill\", \"no hill\"), colors=c(\"red\", \"blue\"))"
   ]
  },
  {
   "cell_type": "code",
   "execution_count": null,
   "metadata": {},
   "outputs": [],
   "source": [
    "plot(longitude, latitude, col=ifelse(velib$bonus==1, \"red\", \"blue\"),\n",
    "     xlab=\"Longitude\", ylab=\"Latitude\", pch=velib$bonus+1)\n",
    "legend(\"topright\", legend=c(\"Not On Hill\", \"On Hill\"),\n",
    "       col=c(\"blue\", \"red\"), pch=c(1, 2))"
   ]
  },
  {
   "cell_type": "code",
   "execution_count": null,
   "metadata": {},
   "outputs": [],
   "source": [
    "options(repr.plot.width=16, repr.plot.height=9)\n",
    "colline <- which(velib$bonus == 1)\n",
    "boxplot(x[colline,])"
   ]
  },
  {
   "cell_type": "code",
   "execution_count": null,
   "metadata": {},
   "outputs": [],
   "source": [
    "options(repr.plot.width=16, repr.plot.height=9)\n",
    "no.colline <- which(velib$bonus == 0)\n",
    "boxplot(x[no.colline,])\n",
    "abline(v=timeTick, lty=\"dotted\", col=\"blue\", lwd=2)"
   ]
  },
  {
   "cell_type": "markdown",
   "metadata": {},
   "source": [
    "### PCA"
   ]
  },
  {
   "cell_type": "code",
   "execution_count": null,
   "metadata": {},
   "outputs": [],
   "source": [
    "library(FactoMineR)\n",
    "library(factoextra)\n",
    "\n",
    "ncp <- 15 # number of principal components\n",
    "rownames(x) <- 1:nrow(x)\n",
    "PCA.out = PCA(x, scale.unit=FALSE, ncp=ncp)"
   ]
  },
  {
   "cell_type": "code",
   "execution_count": null,
   "metadata": {},
   "outputs": [],
   "source": [
    "PCA.out$eig[0:15, ]\n",
    "fviz_eig(PCA.out, ncp=ncp, addlabels=TRUE)"
   ]
  },
  {
   "cell_type": "code",
   "execution_count": null,
   "metadata": {},
   "outputs": [],
   "source": [
    "str(PCA.out$eig)"
   ]
  },
  {
   "cell_type": "code",
   "execution_count": null,
   "metadata": {},
   "outputs": [],
   "source": [
    "somme <- cumsum(PCA.out$eig[0:15, 2])\n",
    "str(somme)\n",
    "barplot(somme)\n",
    "text(x=c(1:15), y=PCA.out$eig[, 3], labels=signif(PCA.out$eig[, 2], digits=3))"
   ]
  },
  {
   "cell_type": "code",
   "execution_count": null,
   "metadata": {},
   "outputs": [],
   "source": [
    "boxplot(PCA.out$ind$coord[,1:15])"
   ]
  },
  {
   "cell_type": "code",
   "execution_count": null,
   "metadata": {},
   "outputs": [],
   "source": [
    "fviz_pca_ind(PCA.out)"
   ]
  },
  {
   "cell_type": "code",
   "execution_count": null,
   "metadata": {},
   "outputs": [],
   "source": [
    "fviz_pca_var(PCA.out)"
   ]
  },
  {
   "cell_type": "code",
   "execution_count": null,
   "metadata": {},
   "outputs": [],
   "source": [
    "fviz_pca_var(PCA.out, axes=c(1, 3), alpha=.4)"
   ]
  },
  {
   "cell_type": "code",
   "execution_count": null,
   "metadata": {},
   "outputs": [],
   "source": [
    "fviz_pca_biplot(PCA.out)\n",
    "fviz_pca_biplot(PCA.out, repel=TRUE,\n",
    "        # Individus\n",
    "        col.ind=\"black\",\n",
    "        pointshape=21, pointsize=2,\n",
    "         # Variables\n",
    "        alpha.var=\"contrib\", col.var=\"contrib\",\n",
    "        gradient.cols=c(\"#00AFBB\",\"#E7B800\",\"#FC4E07\"),\n",
    "        legend.title=list(color =\"Contrib\", alpha=\"Contrib\"))"
   ]
  },
  {
   "cell_type": "code",
   "execution_count": null,
   "metadata": {},
   "outputs": [],
   "source": [
    "fviz_pca_ind(PCA.out, col.ind=ifelse(velib$bonus==1, \"Hill\", \"No Hill\"))"
   ]
  },
  {
   "cell_type": "code",
   "execution_count": null,
   "metadata": {},
   "outputs": [],
   "source": [
    "# ???\n",
    "\n",
    "par(mfrow=c(6, 1))\n",
    "options(repr.plot.width=15, repr.plot.height=6)\n",
    "\n",
    "for (i in 1:6) {\n",
    "    plot(PCA.out$ind$coord[,i])\n",
    "}"
   ]
  },
  {
   "cell_type": "markdown",
   "metadata": {},
   "source": [
    "### CAH sur les données brutes\n",
    "\n",
    "\n"
   ]
  },
  {
   "cell_type": "code",
   "execution_count": null,
   "metadata": {},
   "outputs": [],
   "source": [
    "CAHclust <- hclust(dist(x,method = 'euclidean'), method=\"ward.D2\")\n",
    "CAHcut <- cutree(CAHclust, k = 5)\n",
    "plot(CAHclust, labels=FALSE)\n",
    "abline(h = 40, col = 'red')"
   ]
  },
  {
   "cell_type": "code",
   "execution_count": null,
   "metadata": {},
   "outputs": [],
   "source": [
    "heights = CAHclust$height\n",
    "heights = sort(heights,decreasing=TRUE)\n",
    "plot(heights[1:16])"
   ]
  },
  {
   "cell_type": "code",
   "execution_count": null,
   "metadata": {
    "scrolled": true
   },
   "outputs": [],
   "source": [
    "# fviz_cluster(list(data = velib$position, cluster = CAHclust)) # Utiliser pour les données ACP\n",
    "library(dplyr)\n",
    "library(ggplot2)\n",
    "\n",
    "Stations_CAHclust <- mutate(velib$position, cluster = CAHcut)\n",
    "ggplot(Stations_CAHclust, aes(x=longitude, y = latitude, color = factor(cluster))) + geom_point()"
   ]
  },
  {
   "cell_type": "code",
   "execution_count": null,
   "metadata": {},
   "outputs": [],
   "source": [
    "timeTick <- 1 + 24*(0:6)  # vector corresponding to the beginning of days\n",
    "par(mfrow = c(3, 2))\n",
    "\n",
    "options(repr.plot.width = 20, repr.plot.height = 10)\n",
    "Cclust=cbind(x,CAHcut)\n",
    "for(i in 1:5){\n",
    "    boxplot(Cclust[Cclust[,169]==i,],xlab=\"Time\",ylab='Loading',col='red',type='l',ylim = c(0, 1))\n",
    "    abline(v = timeTick, lty = \"dotted\")\n",
    "}"
   ]
  },
  {
   "cell_type": "markdown",
   "metadata": {},
   "source": [
    "### CAH sur les CP de l'ACP"
   ]
  },
  {
   "cell_type": "code",
   "execution_count": null,
   "metadata": {},
   "outputs": [],
   "source": [
    "CAHclustACP <- hclust(dist(PCA.out$ind$coord, method='euclidean'), method=\"ward.D2\")\n",
    "CAHcutACP <- cutree(CAHclustACP, k = 4)\n",
    "plot(CAHclustACP, labels=FALSE)\n",
    "abline(h = 50, col = 'red')"
   ]
  },
  {
   "cell_type": "markdown",
   "metadata": {},
   "source": [
    "### k-means"
   ]
  },
  {
   "cell_type": "markdown",
   "metadata": {},
   "source": [
    "#### For original data"
   ]
  },
  {
   "cell_type": "code",
   "execution_count": null,
   "metadata": {},
   "outputs": [],
   "source": [
    "K <- 6\n",
    "reskm <- kmeans(x, centers = K)"
   ]
  },
  {
   "cell_type": "code",
   "execution_count": null,
   "metadata": {},
   "outputs": [],
   "source": [
    "new_k <- vector(length=9)\n",
    "somme <- 0\n",
    "for (k in 1:9) {\n",
    "    new_k[k] <- kmeans(x, centers=k)$tot.withinss\n",
    "    somme <- somme + kmeans(x, centers=k)$totss\n",
    "}\n",
    "plot(x=c(1:9), new_k/somme, type='b', xlab='Number of Clusters')"
   ]
  },
  {
   "cell_type": "code",
   "execution_count": null,
   "metadata": {},
   "outputs": [],
   "source": [
    "timeTick <- 1 + 24*(0:6)  # vector corresponding to the beginning of days\n",
    "par(mfrow = c(3, 2))\n",
    "\n",
    "options(repr.plot.width = 20, repr.plot.height = 10)\n",
    "\n",
    "for(i in 1:6){\n",
    "    plot(reskm$centers[i,],xlab=\"Time\",ylab='Loading',col='red',type='l',ylim = c(0, 1))\n",
    "    abline(v = timeTick, lty = \"dotted\")\n",
    "}"
   ]
  },
  {
   "cell_type": "code",
   "execution_count": null,
   "metadata": {},
   "outputs": [],
   "source": [
    "timeTick <- 1 + 24*(0:6)  # vector corresponding to the beginning of days\n",
    "par(mfrow = c(3, 2))\n",
    "\n",
    "options(repr.plot.width = 20, repr.plot.height = 10)\n",
    "kmclust=cbind(x,reskm$cluster)\n",
    "for(i in 1:6){\n",
    "    boxplot(kmclust[kmclust[,169]==i,],xlab=\"Time\",ylab='loading',col='red',type='l',ylim = c(0, 1))\n",
    "    abline(v = timeTick, lty = \"dotted\")\n",
    "}"
   ]
  },
  {
   "cell_type": "code",
   "execution_count": null,
   "metadata": {},
   "outputs": [],
   "source": [
    "fviz_cluster(reskm,x)"
   ]
  },
  {
   "cell_type": "code",
   "execution_count": null,
   "metadata": {},
   "outputs": [],
   "source": [
    "KMclust <- mutate(velib$position, cluster = reskm$cluster)\n",
    "ggplot(KMclust, aes(x=longitude, y = latitude, color = factor(cluster))) + geom_point()"
   ]
  },
  {
   "cell_type": "markdown",
   "metadata": {},
   "source": [
    "#### On PCA data"
   ]
  },
  {
   "cell_type": "code",
   "execution_count": null,
   "metadata": {},
   "outputs": [],
   "source": [
    "reskmPCA <- kmeans(PCA.out$ind$coord[,1:6], centers = K)\n",
    "fviz_cluster(reskmPCA,PCA.out$ind$coord[,1:2])"
   ]
  },
  {
   "cell_type": "code",
   "execution_count": null,
   "metadata": {},
   "outputs": [],
   "source": [
    "tabCompCluster <-table(reskm$cluster, reskmPCA$cluster)  # seem to correspond up to a permutation\n",
    "tabCompCluster\n",
    "clusterPerm <- apply(tabCompCluster, 2, which.max)  # permutation maximizing the diagonal terms\n",
    "clusterPerm  \n",
    "table(reskm$cluster, clusterPerm[reskmPCA$cluster]) "
   ]
  },
  {
   "cell_type": "markdown",
   "metadata": {},
   "source": [
    "### Gaussian mixture"
   ]
  },
  {
   "cell_type": "code",
   "execution_count": null,
   "metadata": {
    "scrolled": true
   },
   "outputs": [],
   "source": [
    "library(mclust)\n",
    "\n",
    "nbr_clusters = 6\n",
    "gm = Mclust(PCA.out$ind$coord[,1:2], G = nbr_clusters, modelNames = 'VVV')\n",
    "summary(gm)\n"
   ]
  },
  {
   "cell_type": "code",
   "execution_count": null,
   "metadata": {},
   "outputs": [],
   "source": [
    "plot(gm, what = \"classification\")"
   ]
  },
  {
   "cell_type": "code",
   "execution_count": null,
   "metadata": {},
   "outputs": [],
   "source": []
  }
 ],
 "metadata": {
  "kernelspec": {
   "display_name": "R",
   "language": "R",
   "name": "ir"
  },
  "language_info": {
   "codemirror_mode": "r",
   "file_extension": ".r",
   "mimetype": "text/x-r-source",
   "name": "R",
   "pygments_lexer": "r",
   "version": "4.0.5"
  }
 },
 "nbformat": 4,
 "nbformat_minor": 4
}
