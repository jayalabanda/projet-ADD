{
 "cells": [
  {
   "cell_type": "markdown",
   "metadata": {},
   "source": [
    "# Data analysis: Velib"
   ]
  },
  {
   "cell_type": "markdown",
   "metadata": {},
   "source": [
    "Author: O. Roustant, INSA Toulouse. January 2021.\n",
    "\n",
    "\n",
    "We consider the ‘Vélib’ data set, related to the bike sharing system of Paris. The data are loading profiles of the bike stations over one week, collected every hour, from the period Monday 2nd Sept. - Sunday 7th Sept., 2014. The loading profile of a station, or simply loading, is defined as the ratio of number of available bikes divided by the number of bike docks. A loading of 1 means that the station is fully loaded, i.e. all bikes are available. A loading of 0 means that the station is empty, all bikes have been rent.\n",
    "\n",
    "From the viewpoint of data analysis, the individuals are the stations. The variables are the 168 time steps (hours in the week). The aim is to detect clusters in the data, corresponding to common customer usages. This clustering should then be used to predict the loading profile."
   ]
  },
  {
   "cell_type": "code",
   "execution_count": 1,
   "metadata": {},
   "outputs": [
    {
     "name": "stderr",
     "output_type": "stream",
     "text": [
      "Warning message:\n",
      "\"package 'funFEM' was built under R version 3.6.3\"Loading required package: MASS\n",
      "Warning message:\n",
      "\"package 'MASS' was built under R version 3.6.2\"Loading required package: fda\n",
      "Warning message:\n",
      "\"package 'fda' was built under R version 3.6.3\"Loading required package: splines\n",
      "Loading required package: Matrix\n",
      "Loading required package: fds\n",
      "Warning message:\n",
      "\"package 'fds' was built under R version 3.6.3\"Loading required package: rainbow\n",
      "Warning message:\n",
      "\"package 'rainbow' was built under R version 3.6.3\"Loading required package: pcaPP\n",
      "Warning message:\n",
      "\"package 'pcaPP' was built under R version 3.6.3\"Loading required package: RCurl\n",
      "Warning message:\n",
      "\"package 'RCurl' was built under R version 3.6.3\"\n",
      "Attaching package: 'fda'\n",
      "\n",
      "The following object is masked from 'package:graphics':\n",
      "\n",
      "    matplot\n",
      "\n",
      "Loading required package: elasticnet\n",
      "Warning message:\n",
      "\"package 'elasticnet' was built under R version 3.6.3\"Loading required package: lars\n",
      "Loaded lars 1.2\n",
      "\n"
     ]
    }
   ],
   "source": [
    "rm(list = ls())   # erase everything, start from scratch!\n",
    "\n",
    "# load the data from package funFEM\n",
    "\n",
    "library(funFEM)\n",
    "data(velib)\n",
    "#help(\"velib\")"
   ]
  },
  {
   "cell_type": "code",
   "execution_count": 2,
   "metadata": {},
   "outputs": [],
   "source": [
    "# data preparation\n",
    "x <- as.matrix(velib$data)\n",
    "colnames(x) <- 1:ncol(x)\n",
    "rownames(x) <- velib$names\n",
    "\n",
    "n <- nrow(x)\n",
    "stations <- 1:n \n",
    "coord <- velib$position[stations,]\n",
    "\n",
    "# select exactly 7 days of data (we remove the first 13 dates)\n",
    "dates <- 14:181\n",
    "x <- x[stations, dates]\n",
    "colnames(x) <- 1:length(dates)"
   ]
  },
  {
   "cell_type": "code",
   "execution_count": 3,
   "metadata": {},
   "outputs": [
    {
     "data": {
      "image/png": "[encoded data removed]",
      "text/plain": [
       "Plot with title \" EURYALE DEHAYNIN\""
      ]
     },
     "metadata": {},
     "output_type": "display_data"
    }
   ],
   "source": [
    "timeTick <- 1 + 24*(0:6)  # vector corresponding to the beginning of days\n",
    "par(mfrow = c(1, 1))\n",
    "\n",
    "options(repr.plot.width = 15, repr.plot.height = 6)\n",
    "\n",
    "plot(x[1, ], col = \"blue\", type = \"l\", ylim = c(0, 1), \n",
    "     xlab = \"Time\", ylab = \"Loading\", main = rownames(x)[1])\n",
    "abline(v = timeTick, lty = \"dotted\")\n"
   ]
  },
  {
   "cell_type": "code",
   "execution_count": 4,
   "metadata": {},
   "outputs": [],
   "source": [
    "# From now on, we use numbers instead of station names, \n",
    "# in order to simplify printing\n",
    "rownames(x) <- 1:nrow(x)"
   ]
  },
  {
   "cell_type": "markdown",
   "metadata": {},
   "source": [
    "# Descriptive statistics.\n",
    "\n",
    "Some ideas : \n",
    "\n",
    "1. Draw a matrix of plots of size 4*4, corresponding to the first 16 stations. (Do not forget the vertical lines corresponding to days).\n",
    "2. Draw the boxplot of the variables, sorted in time order. \n",
    "What can you say about the distribution of the variables? \n",
    "Position, dispersion, symmetry?\n",
    "3. Investigate the temporal correlation of the variables. \n",
    "For instance, for a given station, plot the loading at t+h versus loading at time t.\n",
    "Visualize the correlation matrix by an image plot. Interpret the result.\n",
    "4. Plot the stations coordinates on a 2D map (latitude versus longitude). Use a different color for stations which are located on a hill.\n",
    "5. Redo questions 1-3 for the subset of stations which are located on a hill. Same questions for those who are not. Comment?"
   ]
  },
  {
   "cell_type": "markdown",
   "metadata": {},
   "source": [
    "# Principal component analysis"
   ]
  },
  {
   "cell_type": "markdown",
   "metadata": {},
   "source": [
    "Some ideas :\n",
    "\n",
    "1. Perform a PCA with package FactoMineR. Should the data be scaled?\n",
    "2. Plot the percentage of variance explained by the first 15 components, as well as a boxplot of the coordinates of the indivuals on the 15 first principal axis. How many components can be kept?\n",
    "3. Plot the coordinates of the first 4 principal components on different graphs. Interpret the result (remember that the original variables are time steps).\n",
    "4. Plot the circle of correlation. Interpret the result.\n",
    "5. Plot the individuals on the plan spanned by the first two coordinates. Interpret the result.\n",
    "6. Add the information brought by the variable qualitative variable 'bonus', indicating whether a station is located on a hill or not. In particular, where are located these stations on the graph of individuals? Is it surprising?\n",
    "7. Implement questions 1-6 in Python. For that, you can have a look at the notebook on MARS, of https://github.com/wikistat/Exploration/"
   ]
  },
  {
   "cell_type": "code",
   "execution_count": 5,
   "metadata": {
    "scrolled": true
   },
   "outputs": [
    {
     "name": "stderr",
     "output_type": "stream",
     "text": [
      "Warning message:\n",
      "\"package 'FactoMineR' was built under R version 3.6.2\""
     ]
    }
   ],
   "source": [
    "library(FactoMineR)\n",
    "\n",
    "velib.pca <- PCA(x, scale.unit=F, graph=F)"
   ]
  },
  {
   "cell_type": "code",
   "execution_count": 8,
   "metadata": {},
   "outputs": [
    {
     "ename": "ERROR",
     "evalue": "Error in loadNamespace(i, c(lib.loc, .libPaths()), versionCheck = vI[[i]]): namespace 'dplyr' 0.8.4 is already loaded, but >= 1.0.0 is required\n",
     "output_type": "error",
     "traceback": [
      "Error in loadNamespace(i, c(lib.loc, .libPaths()), versionCheck = vI[[i]]): namespace 'dplyr' 0.8.4 is already loaded, but >= 1.0.0 is required\nTraceback:\n",
      "1. fviz_eig(velib.pca, addlabels = T)",
      "2. ggpubr::ggpar",
      "3. getExportedValue(pkg, name)",
      "4. asNamespace(ns)",
      "5. getNamespace(ns)",
      "6. loadNamespace(name)",
      "7. namespaceImportFrom(ns, loadNamespace(j <- i[[1L]], c(lib.loc, \n .     .libPaths()), versionCheck = vI[[j]]), i[[2L]], from = package)",
      "8. asNamespace(ns)",
      "9. loadNamespace(j <- i[[1L]], c(lib.loc, .libPaths()), versionCheck = vI[[j]])",
      "10. namespaceImportFrom(ns, loadNamespace(j <- i[[1L]], c(lib.loc, \n  .     .libPaths()), versionCheck = vI[[j]]), i[[2L]], from = package)",
      "11. asNamespace(ns)",
      "12. loadNamespace(j <- i[[1L]], c(lib.loc, .libPaths()), versionCheck = vI[[j]])",
      "13. namespaceImport(ns, loadNamespace(i, c(lib.loc, .libPaths()), \n  .     versionCheck = vI[[i]]), from = package)",
      "14. loadNamespace(i, c(lib.loc, .libPaths()), versionCheck = vI[[i]])",
      "15. stop(gettextf(\"namespace %s %s is already loaded, but %s %s is required\", \n  .     sQuote(package), current, zop, zversion), domain = NA)"
     ]
    }
   ],
   "source": [
    "library(factoextra)\n",
    "\n",
    "fviz_eig(velib.pca, addlabels=T)"
   ]
  },
  {
   "cell_type": "code",
   "execution_count": 7,
   "metadata": {},
   "outputs": [
    {
     "name": "stderr",
     "output_type": "stream",
     "text": [
      "Installing package into 'C:/Users/luis_/Documents/R/win-library/3.6'\n",
      "(as 'lib' is unspecified)\n"
     ]
    },
    {
     "name": "stdout",
     "output_type": "stream",
     "text": [
      "package 'dplyr' successfully unpacked and MD5 sums checked\n"
     ]
    },
    {
     "name": "stderr",
     "output_type": "stream",
     "text": [
      "Warning message:\n",
      "\"cannot remove prior installation of package 'dplyr'\"Warning message in file.copy(savedcopy, lib, recursive = TRUE):\n",
      "\"problema al copiar C:\\Users\\luis_\\Documents\\R\\win-library\\3.6\\00LOCK\\dplyr\\libs\\x64\\dplyr.dll  a C:\\Users\\luis_\\Documents\\R\\win-library\\3.6\\dplyr\\libs\\x64\\dplyr.dll: Permission denied\"Warning message:\n",
      "\"restored 'dplyr'\""
     ]
    },
    {
     "name": "stdout",
     "output_type": "stream",
     "text": [
      "\n",
      "The downloaded binary packages are in\n",
      "\tC:\\Users\\luis_\\AppData\\Local\\Temp\\RtmpuOEP9K\\downloaded_packages\n"
     ]
    }
   ],
   "source": [
    "install.packages(\"dplyr\")"
   ]
  },
  {
   "cell_type": "code",
   "execution_count": null,
   "metadata": {},
   "outputs": [],
   "source": []
  }
 ],
 "metadata": {
  "kernelspec": {
   "display_name": "R",
   "language": "R",
   "name": "ir"
  },
  "language_info": {
   "codemirror_mode": "r",
   "file_extension": ".r",
   "mimetype": "text/x-r-source",
   "name": "R",
   "pygments_lexer": "r",
   "version": "3.6.1"
  },
  "toc": {
   "base_numbering": 1,
   "nav_menu": {},
   "number_sections": true,
   "sideBar": true,
   "skip_h1_title": false,
   "title_cell": "Table of Contents",
   "title_sidebar": "Contents",
   "toc_cell": false,
   "toc_position": {},
   "toc_section_display": true,
   "toc_window_display": false
  }
 },
 "nbformat": 4,
 "nbformat_minor": 4
}
